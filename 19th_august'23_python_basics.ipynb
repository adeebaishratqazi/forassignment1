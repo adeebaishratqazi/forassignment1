{
 "cells": [
  {
   "cell_type": "code",
   "execution_count": 2,
   "id": "4fc4dda7-6932-4b69-9205-fbd4cc8de921",
   "metadata": {},
   "outputs": [],
   "source": [
    "#solution 1: i am taking two variables x and y and assigning them integer values;"
   ]
  },
  {
   "cell_type": "code",
   "execution_count": 3,
   "id": "45a4ec55-0b94-48d4-928f-48cb28cde937",
   "metadata": {},
   "outputs": [],
   "source": [
    "x = 15"
   ]
  },
  {
   "cell_type": "code",
   "execution_count": 4,
   "id": "a5021a33-3c4c-4f1c-b735-e316ee4eb12e",
   "metadata": {},
   "outputs": [],
   "source": [
    "y = 30"
   ]
  },
  {
   "cell_type": "code",
   "execution_count": 5,
   "id": "17ffe6e3-dfa0-4772-bcfd-2ad5c0cac7d8",
   "metadata": {},
   "outputs": [
    {
     "data": {
      "text/plain": [
       "int"
      ]
     },
     "execution_count": 5,
     "metadata": {},
     "output_type": "execute_result"
    }
   ],
   "source": [
    "type(x)"
   ]
  },
  {
   "cell_type": "code",
   "execution_count": 6,
   "id": "9f3b42e1-ae57-4872-aecf-4830fe91fb9c",
   "metadata": {},
   "outputs": [
    {
     "data": {
      "text/plain": [
       "int"
      ]
     },
     "execution_count": 6,
     "metadata": {},
     "output_type": "execute_result"
    }
   ],
   "source": [
    "type(y)"
   ]
  },
  {
   "cell_type": "code",
   "execution_count": 7,
   "id": "adc2c8e3-2df0-4790-a0df-4ffd28610788",
   "metadata": {},
   "outputs": [],
   "source": [
    "#now i have to swap the values of these two variables without using any temporary variable;"
   ]
  },
  {
   "cell_type": "code",
   "execution_count": 8,
   "id": "d4482130-6ad5-43d8-92a9-6612c46d94b5",
   "metadata": {},
   "outputs": [],
   "source": [
    "x,y = y,x"
   ]
  },
  {
   "cell_type": "code",
   "execution_count": 9,
   "id": "e836e1d6-d434-4afd-9a1b-ca810b4541e1",
   "metadata": {},
   "outputs": [
    {
     "data": {
      "text/plain": [
       "30"
      ]
     },
     "execution_count": 9,
     "metadata": {},
     "output_type": "execute_result"
    }
   ],
   "source": [
    "x"
   ]
  },
  {
   "cell_type": "code",
   "execution_count": 10,
   "id": "93055820-5b81-4817-8591-45e57c4c1547",
   "metadata": {},
   "outputs": [
    {
     "data": {
      "text/plain": [
       "15"
      ]
     },
     "execution_count": 10,
     "metadata": {},
     "output_type": "execute_result"
    }
   ],
   "source": [
    "y"
   ]
  },
  {
   "cell_type": "code",
   "execution_count": 11,
   "id": "86e015a8-b747-4ebf-bded-56c0965b3b5f",
   "metadata": {},
   "outputs": [],
   "source": [
    "#hence we can see that the two variables are swapped."
   ]
  },
  {
   "cell_type": "code",
   "execution_count": null,
   "id": "7955458e-a0e0-474e-85b0-fab5bab96379",
   "metadata": {},
   "outputs": [],
   "source": []
  },
  {
   "cell_type": "code",
   "execution_count": null,
   "id": "407d9db6-5edc-485a-a4b2-a8ca629e6dcb",
   "metadata": {},
   "outputs": [],
   "source": []
  },
  {
   "cell_type": "code",
   "execution_count": 12,
   "id": "a0bc8469-69b5-4bcc-8e95-2a982fd69f62",
   "metadata": {},
   "outputs": [],
   "source": [
    "#solution 2: we have to calculate the area of rectangle and display the area;"
   ]
  },
  {
   "cell_type": "code",
   "execution_count": 13,
   "id": "c15c9762-e9a2-4e6b-9c08-c31d9b5580e2",
   "metadata": {},
   "outputs": [
    {
     "name": "stdin",
     "output_type": "stream",
     "text": [
      "enter length here :  56\n"
     ]
    }
   ],
   "source": [
    "length = float(input(\"enter length here : \"))"
   ]
  },
  {
   "cell_type": "code",
   "execution_count": 14,
   "id": "c85f23f4-8bfb-40a6-876e-b7bdb39925da",
   "metadata": {},
   "outputs": [
    {
     "name": "stdin",
     "output_type": "stream",
     "text": [
      "enter width here :  84\n"
     ]
    }
   ],
   "source": [
    "width = float(input(\"enter width here : \"))"
   ]
  },
  {
   "cell_type": "code",
   "execution_count": 16,
   "id": "dcbe5b2e-d383-4f3c-a00b-1557905f089b",
   "metadata": {},
   "outputs": [
    {
     "name": "stdout",
     "output_type": "stream",
     "text": [
      "area of rectangle is 4704.0\n"
     ]
    }
   ],
   "source": [
    "area = print(\"area of rectangle is\",length*width)"
   ]
  },
  {
   "cell_type": "code",
   "execution_count": null,
   "id": "a5cedc94-1f82-421d-b386-d8bcc222f3bb",
   "metadata": {},
   "outputs": [],
   "source": []
  },
  {
   "cell_type": "code",
   "execution_count": null,
   "id": "ec9b371b-a107-4909-9e3b-eb3d9e287f64",
   "metadata": {},
   "outputs": [],
   "source": []
  },
  {
   "cell_type": "code",
   "execution_count": 17,
   "id": "30a46226-f3b1-45b1-a656-865a2c02231c",
   "metadata": {},
   "outputs": [],
   "source": [
    "#solution 3: To convert temperature from celsius to fahrenheit, we already know that (0 degrees celsius = 32 degrees fahrenheit)"
   ]
  },
  {
   "cell_type": "code",
   "execution_count": 1,
   "id": "df3b8e29-ced6-4f5a-96f8-2ec54cd8e2bc",
   "metadata": {},
   "outputs": [
    {
     "name": "stdin",
     "output_type": "stream",
     "text": [
      "enter value of temperature in celsius : 42\n"
     ]
    }
   ],
   "source": [
    "celsius = int(input(\"enter value of temperature in celsius :\"))"
   ]
  },
  {
   "cell_type": "code",
   "execution_count": 2,
   "id": "334a71c7-b56e-4208-a5ae-80d9122cf0e5",
   "metadata": {},
   "outputs": [],
   "source": [
    "fahrenheit = (celsius*(9/5))+32"
   ]
  },
  {
   "cell_type": "code",
   "execution_count": 3,
   "id": "4436332f-1c24-45ed-9380-9f0163f385a8",
   "metadata": {},
   "outputs": [
    {
     "name": "stdout",
     "output_type": "stream",
     "text": [
      "the converted value is 107.60000000000001 fahrenheit\n"
     ]
    }
   ],
   "source": [
    "print(\"the converted value is\",fahrenheit,\"fahrenheit\")"
   ]
  },
  {
   "cell_type": "code",
   "execution_count": 4,
   "id": "b9be65ae-01f6-4196-8a42-1c0f7f556f6b",
   "metadata": {},
   "outputs": [],
   "source": [
    "#hence we can see the converted Fahrenheit"
   ]
  },
  {
   "cell_type": "code",
   "execution_count": null,
   "id": "a94008b4-e49d-40ae-b2cb-85b443ea6ebd",
   "metadata": {},
   "outputs": [],
   "source": []
  },
  {
   "cell_type": "code",
   "execution_count": null,
   "id": "f2528d9f-8de1-4268-9ab9-9dd35607e24b",
   "metadata": {},
   "outputs": [],
   "source": []
  },
  {
   "cell_type": "code",
   "execution_count": 5,
   "id": "0089a680-cfd3-4871-8749-584928e11a96",
   "metadata": {},
   "outputs": [],
   "source": [
    "###STRING BASED QUESTIONS"
   ]
  },
  {
   "cell_type": "code",
   "execution_count": 7,
   "id": "5bd17441-016a-4d71-a49a-f88fdba54c83",
   "metadata": {},
   "outputs": [],
   "source": [
    "#solution 1: print the length of the string;"
   ]
  },
  {
   "cell_type": "code",
   "execution_count": 8,
   "id": "1dcba027-a9c8-460f-98c2-1a07efb08432",
   "metadata": {},
   "outputs": [
    {
     "name": "stdin",
     "output_type": "stream",
     "text": [
      " 10\n"
     ]
    }
   ],
   "source": [
    "a = input()"
   ]
  },
  {
   "cell_type": "code",
   "execution_count": 9,
   "id": "c6e084b5-0473-4e23-a38c-a4a800f192aa",
   "metadata": {},
   "outputs": [
    {
     "data": {
      "text/plain": [
       "str"
      ]
     },
     "execution_count": 9,
     "metadata": {},
     "output_type": "execute_result"
    }
   ],
   "source": [
    "type(a)"
   ]
  },
  {
   "cell_type": "code",
   "execution_count": 10,
   "id": "d933ec4e-7cc7-4ec0-bc09-8fa0118ded83",
   "metadata": {},
   "outputs": [],
   "source": [
    "s = len(a)"
   ]
  },
  {
   "cell_type": "code",
   "execution_count": 11,
   "id": "b45089b1-ff6d-4547-ad42-475bece89795",
   "metadata": {},
   "outputs": [
    {
     "name": "stdout",
     "output_type": "stream",
     "text": [
      "the length of the given string is 2\n"
     ]
    }
   ],
   "source": [
    "print(\"the length of the given string is\",s)"
   ]
  },
  {
   "cell_type": "code",
   "execution_count": 12,
   "id": "38ab9a78-d64e-4509-adef-49b6798f16e8",
   "metadata": {},
   "outputs": [],
   "source": [
    "#therefore we got the length of the string."
   ]
  },
  {
   "cell_type": "code",
   "execution_count": null,
   "id": "e1795961-6271-4b5e-8ce0-8a469642e0ec",
   "metadata": {},
   "outputs": [],
   "source": []
  },
  {
   "cell_type": "code",
   "execution_count": null,
   "id": "0d71d2bc-337d-4f5f-a92a-8de991bb227a",
   "metadata": {},
   "outputs": [],
   "source": []
  },
  {
   "cell_type": "code",
   "execution_count": 13,
   "id": "720426ee-a327-4635-b0fb-a075d710c796",
   "metadata": {},
   "outputs": [],
   "source": [
    "#solution 2: count the number of vowels in the string;"
   ]
  },
  {
   "cell_type": "code",
   "execution_count": 14,
   "id": "ab4029b6-cbbc-4e4e-a2c2-298074910ceb",
   "metadata": {},
   "outputs": [],
   "source": [
    "a = \"ineuron is a best platform\""
   ]
  },
  {
   "cell_type": "code",
   "execution_count": 15,
   "id": "41df810b-e9ce-43cd-a3db-6958f3e64acf",
   "metadata": {},
   "outputs": [],
   "source": [
    "a = a.casefold()"
   ]
  },
  {
   "cell_type": "code",
   "execution_count": 16,
   "id": "1e107a97-e4f7-42e9-a712-bb8b75549ceb",
   "metadata": {},
   "outputs": [
    {
     "data": {
      "text/plain": [
       "'ineuron is a best platform'"
      ]
     },
     "execution_count": 16,
     "metadata": {},
     "output_type": "execute_result"
    }
   ],
   "source": [
    "a"
   ]
  },
  {
   "cell_type": "code",
   "execution_count": 20,
   "id": "b566b7a3-35ad-4a81-a656-9ee2375e4e60",
   "metadata": {},
   "outputs": [],
   "source": [
    "vowel = \"aeiou\""
   ]
  },
  {
   "cell_type": "code",
   "execution_count": 21,
   "id": "cf4022cf-5e35-46f5-bbeb-9eb8ded57509",
   "metadata": {},
   "outputs": [],
   "source": [
    "count = {key : sum([1 for char in a if char == key]) for key in vowel}"
   ]
  },
  {
   "cell_type": "code",
   "execution_count": 22,
   "id": "e8fb4fcd-aa66-49a7-bfa1-5c669e20b17b",
   "metadata": {},
   "outputs": [
    {
     "name": "stdout",
     "output_type": "stream",
     "text": [
      "{'a': 2, 'e': 2, 'i': 2, 'o': 2, 'u': 1}\n"
     ]
    }
   ],
   "source": [
    "print(count)"
   ]
  },
  {
   "cell_type": "code",
   "execution_count": 23,
   "id": "8b786ac1-5e58-4557-9837-69ac6d4a707f",
   "metadata": {},
   "outputs": [],
   "source": [
    "#therefore we counted the vowels in a string."
   ]
  },
  {
   "cell_type": "code",
   "execution_count": null,
   "id": "ff00e7f5-2500-4b2a-a63d-bb1e95bcd8c0",
   "metadata": {},
   "outputs": [],
   "source": []
  },
  {
   "cell_type": "code",
   "execution_count": null,
   "id": "5742f3f1-fb95-47d6-a7f8-2f5be64d85af",
   "metadata": {},
   "outputs": [],
   "source": []
  },
  {
   "cell_type": "code",
   "execution_count": 24,
   "id": "4a21817f-e324-4227-954b-1f1a51f0bf88",
   "metadata": {},
   "outputs": [],
   "source": [
    "#solution 3: reversing the order of characters using string slicing and printing it reversed;"
   ]
  },
  {
   "cell_type": "code",
   "execution_count": 25,
   "id": "857609ef-a67b-477b-9a55-274c196531a2",
   "metadata": {},
   "outputs": [],
   "source": [
    "a = \"pwskills\""
   ]
  },
  {
   "cell_type": "code",
   "execution_count": 26,
   "id": "61e294e7-d778-4e0a-a1ba-3089524f34ba",
   "metadata": {},
   "outputs": [
    {
     "data": {
      "text/plain": [
       "str"
      ]
     },
     "execution_count": 26,
     "metadata": {},
     "output_type": "execute_result"
    }
   ],
   "source": [
    "type(a)"
   ]
  },
  {
   "cell_type": "code",
   "execution_count": 28,
   "id": "4d3e3901-0d25-4f33-bac4-4cdb3ea348b2",
   "metadata": {},
   "outputs": [
    {
     "data": {
      "text/plain": [
       "'sllikswp'"
      ]
     },
     "execution_count": 28,
     "metadata": {},
     "output_type": "execute_result"
    }
   ],
   "source": [
    "a[::-1]"
   ]
  },
  {
   "cell_type": "code",
   "execution_count": 29,
   "id": "a9daf7d6-0b12-4fc7-a0c2-ff1c6d8e80ee",
   "metadata": {},
   "outputs": [],
   "source": [
    "#therefore string is reversed."
   ]
  },
  {
   "cell_type": "code",
   "execution_count": null,
   "id": "dc9ab269-1d81-4344-9417-c7a0db74f029",
   "metadata": {},
   "outputs": [],
   "source": []
  },
  {
   "cell_type": "code",
   "execution_count": null,
   "id": "b10730be-cc60-44fe-820e-3b77d818d6c7",
   "metadata": {},
   "outputs": [],
   "source": []
  },
  {
   "cell_type": "code",
   "execution_count": 30,
   "id": "49c39d4c-33a0-4923-bb4b-9f7439475aef",
   "metadata": {},
   "outputs": [],
   "source": [
    "#soltion 4: taking a string as an input to check if its a palindrome;"
   ]
  },
  {
   "cell_type": "code",
   "execution_count": 31,
   "id": "c5c81a5d-fcda-4938-9247-bdd0762b3817",
   "metadata": {},
   "outputs": [
    {
     "name": "stdin",
     "output_type": "stream",
     "text": [
      " level\n"
     ]
    }
   ],
   "source": [
    "a = input()"
   ]
  },
  {
   "cell_type": "code",
   "execution_count": 32,
   "id": "aeea71d2-837c-49e1-9bd6-e521e29cd8fe",
   "metadata": {},
   "outputs": [
    {
     "data": {
      "text/plain": [
       "str"
      ]
     },
     "execution_count": 32,
     "metadata": {},
     "output_type": "execute_result"
    }
   ],
   "source": [
    "type(a)"
   ]
  },
  {
   "cell_type": "code",
   "execution_count": 33,
   "id": "03148346-3989-4712-b297-3b333ac19fa2",
   "metadata": {},
   "outputs": [
    {
     "data": {
      "text/plain": [
       "'level'"
      ]
     },
     "execution_count": 33,
     "metadata": {},
     "output_type": "execute_result"
    }
   ],
   "source": [
    "a[::-1]"
   ]
  },
  {
   "cell_type": "code",
   "execution_count": 38,
   "id": "f9f26cd6-5f19-436e-a058-789d12d6859e",
   "metadata": {},
   "outputs": [
    {
     "name": "stdout",
     "output_type": "stream",
     "text": [
      "yes it is a palindrome\n"
     ]
    }
   ],
   "source": [
    "if a :\n",
    "    print(\"yes it is a palindrome\")\n",
    "else:\n",
    "    print(\"no it is not a palindrome\")"
   ]
  },
  {
   "cell_type": "code",
   "execution_count": 39,
   "id": "84a0e75c-771a-4af7-8fdc-1db2ea4171f1",
   "metadata": {},
   "outputs": [],
   "source": [
    "#hence figured out."
   ]
  },
  {
   "cell_type": "code",
   "execution_count": null,
   "id": "f7d44756-7d63-4718-a1e9-ee5da3d06cf4",
   "metadata": {},
   "outputs": [],
   "source": []
  },
  {
   "cell_type": "code",
   "execution_count": null,
   "id": "87842d63-c45b-41f3-b913-7350365050f1",
   "metadata": {},
   "outputs": [],
   "source": []
  },
  {
   "cell_type": "code",
   "execution_count": 40,
   "id": "5806a047-6354-4221-b2a8-37483c1cbc54",
   "metadata": {},
   "outputs": [],
   "source": [
    "#solution 5: take a string as input and print the modified string without spaces;"
   ]
  },
  {
   "cell_type": "code",
   "execution_count": 41,
   "id": "bd087969-6bc5-4009-830b-1bb087aaf24f",
   "metadata": {},
   "outputs": [
    {
     "name": "stdin",
     "output_type": "stream",
     "text": [
      " my name is adeeba qazi\n"
     ]
    }
   ],
   "source": [
    "a = input()"
   ]
  },
  {
   "cell_type": "code",
   "execution_count": 42,
   "id": "348b6e46-f00b-4c24-9b15-959cb259bb5c",
   "metadata": {},
   "outputs": [
    {
     "data": {
      "text/plain": [
       "str"
      ]
     },
     "execution_count": 42,
     "metadata": {},
     "output_type": "execute_result"
    }
   ],
   "source": [
    "type(a)"
   ]
  },
  {
   "cell_type": "code",
   "execution_count": 45,
   "id": "5c5d7616-62e2-44cf-b63c-d04e2a53ec74",
   "metadata": {},
   "outputs": [],
   "source": [
    "s = a.replace(\" \",\"\")"
   ]
  },
  {
   "cell_type": "code",
   "execution_count": 46,
   "id": "736f3c64-bfe3-4ec6-914a-1424c39bd052",
   "metadata": {},
   "outputs": [
    {
     "name": "stdout",
     "output_type": "stream",
     "text": [
      "the modified string without spaces is mynameisadeebaqazi\n"
     ]
    }
   ],
   "source": [
    "print(\"the modified string without spaces is\",s)"
   ]
  },
  {
   "cell_type": "code",
   "execution_count": 47,
   "id": "155f2130-c378-44d6-aa59-7810d4e2ddd5",
   "metadata": {},
   "outputs": [
    {
     "data": {
      "text/plain": [
       "'mynameisadeebaqazi'"
      ]
     },
     "execution_count": 47,
     "metadata": {},
     "output_type": "execute_result"
    }
   ],
   "source": [
    "s"
   ]
  },
  {
   "cell_type": "code",
   "execution_count": 48,
   "id": "6141408d-bad4-499c-ae82-d1e8a829fd7c",
   "metadata": {},
   "outputs": [],
   "source": [
    "#therefore all spaces removed in this string."
   ]
  },
  {
   "cell_type": "code",
   "execution_count": null,
   "id": "10e801fe-417a-4345-b78d-71f16d0bfb00",
   "metadata": {},
   "outputs": [],
   "source": []
  },
  {
   "cell_type": "code",
   "execution_count": null,
   "id": "01811fcc-f9e0-4baa-adc0-478ffd767280",
   "metadata": {},
   "outputs": [],
   "source": []
  }
 ],
 "metadata": {
  "kernelspec": {
   "display_name": "Python 3 (ipykernel)",
   "language": "python",
   "name": "python3"
  },
  "language_info": {
   "codemirror_mode": {
    "name": "ipython",
    "version": 3
   },
   "file_extension": ".py",
   "mimetype": "text/x-python",
   "name": "python",
   "nbconvert_exporter": "python",
   "pygments_lexer": "ipython3",
   "version": "3.10.8"
  }
 },
 "nbformat": 4,
 "nbformat_minor": 5
}
